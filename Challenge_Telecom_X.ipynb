{
  "nbformat": 4,
  "nbformat_minor": 0,
  "metadata": {
    "colab": {
      "provenance": []
    },
    "kernelspec": {
      "name": "python3",
      "display_name": "Python 3"
    },
    "language_info": {
      "name": "python"
    }
  },
  "cells": [
    {
      "cell_type": "markdown",
      "source": [
        "# Informe Análisis de Churn TelecomX\n",
        "\n"
      ],
      "metadata": {
        "id": "wWAKEQYGH_1E"
      }
    },
    {
      "cell_type": "code",
      "source": [],
      "metadata": {
        "id": "z8oOyGQJH8vn"
      },
      "execution_count": null,
      "outputs": []
    },
    {
      "cell_type": "markdown",
      "source": [
        "## Introducción\n",
        "En este informe se aborda el problema de evasión de clientes (Churn) en el dataset de TelecomX.  \n",
        "El objetivo es identificar patrones y factores que influyen en la cancelación del servicio, para proponer acciones estratégicas que reduzcan la tasa de churn.\n"
      ],
      "metadata": {
        "id": "KzEMYRStIHZZ"
      }
    },
    {
      "cell_type": "markdown",
      "source": [
        "## 1. Limpieza y Tratamiento de Datos\n",
        "**Pasos realizados:**\n",
        "1. Carga del JSON y normalización con `pd.json_normalize()`\n",
        "2. Estandarización de cadenas (eliminación de espacios y minúsculas)\n",
        "3. Uniformidad de respuestas Sí/No (capitalización)\n",
        "4. Conversión de cargos a numérico y manejo de valores faltantes en `TotalCharges`\n",
        "5. Unificación de categorías en `InternetService`\n"
      ],
      "metadata": {
        "id": "jaGUDD7eIM4I"
      }
    },
    {
      "cell_type": "code",
      "source": [
        "import pandas as pd\n",
        "import json\n",
        "\n",
        "# 1. Carga y normalización\n",
        "with open('/content/TelecomX_Data.json', 'r', encoding='utf-8') as f:\n",
        "    data = json.load(f)\n",
        "df = pd.json_normalize(data)\n",
        "\n",
        "# 2. Estandarizar cadenas\n",
        "str_cols = df.select_dtypes(include=['object']).columns\n",
        "df[str_cols] = df[str_cols].apply(lambda col: col.str.strip().str.lower())\n",
        "\n",
        "# 3. Uniformidad Sí/No\n",
        "binary_cols = [\n",
        "    'Churn','customer.Partner','customer.Dependents',\n",
        "    'phone.PhoneService','internet.OnlineSecurity','internet.TechSupport'\n",
        "]\n",
        "for col in binary_cols:\n",
        "    if col in df.columns:\n",
        "        df[col] = df[col].map({'yes': 'Yes', 'no': 'No'}).fillna(df[col].str.capitalize())\n",
        "\n",
        "# 4. Conversión de cargos\n",
        "df['customer.tenure'] = pd.to_numeric(df['customer.tenure'], errors='coerce')\n",
        "df['account.Charges.Monthly'] = pd.to_numeric(df['account.Charges.Monthly'], errors='coerce')\n",
        "df['account.Charges.Total'] = pd.to_numeric(df['account.Charges.Total'], errors='coerce')\n",
        "\n",
        "# 5. Imputación de TotalCharges faltantes\n",
        "df.loc[df['customer.tenure'] == 0, 'account.Charges.Total'] = \\\n",
        "    df.loc[df['customer.tenure'] == 0, 'account.Charges.Total'].fillna(0)\n",
        "\n",
        "# 6. Unificar categorías InternetService\n",
        "if 'internet.InternetService' in df.columns:\n",
        "    df['internet.InternetService'] = df['internet.InternetService'] \\\n",
        "        .str.replace(' ', '_').str.capitalize()\n",
        "\n",
        "# Vista rápida\n",
        "df.head()"
      ],
      "metadata": {
        "colab": {
          "base_uri": "https://localhost:8080/",
          "height": 255
        },
        "id": "cPvubWWzIIgt",
        "outputId": "adcedf7f-3047-4599-8007-a3dde529a899"
      },
      "execution_count": null,
      "outputs": [
        {
          "output_type": "execute_result",
          "data": {
            "text/plain": [
              "   customerID Churn customer.gender  customer.SeniorCitizen customer.Partner  \\\n",
              "0  0002-orfbo    No          female                       0              Yes   \n",
              "1  0003-mknfe    No            male                       0               No   \n",
              "2  0004-tlhlj   Yes            male                       0               No   \n",
              "3  0011-igkff   Yes            male                       1              Yes   \n",
              "4  0013-exchz   Yes          female                       1              Yes   \n",
              "\n",
              "  customer.Dependents  customer.tenure phone.PhoneService phone.MultipleLines  \\\n",
              "0                 Yes                9                Yes                  no   \n",
              "1                  No                9                Yes                 yes   \n",
              "2                  No                4                Yes                  no   \n",
              "3                  No               13                Yes                  no   \n",
              "4                  No                3                Yes                  no   \n",
              "\n",
              "  internet.InternetService  ... internet.OnlineBackup  \\\n",
              "0                      Dsl  ...                   yes   \n",
              "1                      Dsl  ...                    no   \n",
              "2              Fiber_optic  ...                    no   \n",
              "3              Fiber_optic  ...                   yes   \n",
              "4              Fiber_optic  ...                    no   \n",
              "\n",
              "  internet.DeviceProtection internet.TechSupport internet.StreamingTV  \\\n",
              "0                        no                  Yes                  yes   \n",
              "1                        no                   No                   no   \n",
              "2                       yes                   No                   no   \n",
              "3                       yes                   No                  yes   \n",
              "4                        no                  Yes                  yes   \n",
              "\n",
              "  internet.StreamingMovies account.Contract account.PaperlessBilling  \\\n",
              "0                       no         one year                      yes   \n",
              "1                      yes   month-to-month                       no   \n",
              "2                       no   month-to-month                      yes   \n",
              "3                      yes   month-to-month                      yes   \n",
              "4                       no   month-to-month                      yes   \n",
              "\n",
              "  account.PaymentMethod account.Charges.Monthly  account.Charges.Total  \n",
              "0          mailed check                    65.6                 593.30  \n",
              "1          mailed check                    59.9                 542.40  \n",
              "2      electronic check                    73.9                 280.85  \n",
              "3      electronic check                    98.0                1237.85  \n",
              "4          mailed check                    83.9                 267.40  \n",
              "\n",
              "[5 rows x 21 columns]"
            ],
            "text/html": [
              "\n",
              "  <div id=\"df-bb5a2132-55b4-4382-9b3b-f488d9005025\" class=\"colab-df-container\">\n",
              "    <div>\n",
              "<style scoped>\n",
              "    .dataframe tbody tr th:only-of-type {\n",
              "        vertical-align: middle;\n",
              "    }\n",
              "\n",
              "    .dataframe tbody tr th {\n",
              "        vertical-align: top;\n",
              "    }\n",
              "\n",
              "    .dataframe thead th {\n",
              "        text-align: right;\n",
              "    }\n",
              "</style>\n",
              "<table border=\"1\" class=\"dataframe\">\n",
              "  <thead>\n",
              "    <tr style=\"text-align: right;\">\n",
              "      <th></th>\n",
              "      <th>customerID</th>\n",
              "      <th>Churn</th>\n",
              "      <th>customer.gender</th>\n",
              "      <th>customer.SeniorCitizen</th>\n",
              "      <th>customer.Partner</th>\n",
              "      <th>customer.Dependents</th>\n",
              "      <th>customer.tenure</th>\n",
              "      <th>phone.PhoneService</th>\n",
              "      <th>phone.MultipleLines</th>\n",
              "      <th>internet.InternetService</th>\n",
              "      <th>...</th>\n",
              "      <th>internet.OnlineBackup</th>\n",
              "      <th>internet.DeviceProtection</th>\n",
              "      <th>internet.TechSupport</th>\n",
              "      <th>internet.StreamingTV</th>\n",
              "      <th>internet.StreamingMovies</th>\n",
              "      <th>account.Contract</th>\n",
              "      <th>account.PaperlessBilling</th>\n",
              "      <th>account.PaymentMethod</th>\n",
              "      <th>account.Charges.Monthly</th>\n",
              "      <th>account.Charges.Total</th>\n",
              "    </tr>\n",
              "  </thead>\n",
              "  <tbody>\n",
              "    <tr>\n",
              "      <th>0</th>\n",
              "      <td>0002-orfbo</td>\n",
              "      <td>No</td>\n",
              "      <td>female</td>\n",
              "      <td>0</td>\n",
              "      <td>Yes</td>\n",
              "      <td>Yes</td>\n",
              "      <td>9</td>\n",
              "      <td>Yes</td>\n",
              "      <td>no</td>\n",
              "      <td>Dsl</td>\n",
              "      <td>...</td>\n",
              "      <td>yes</td>\n",
              "      <td>no</td>\n",
              "      <td>Yes</td>\n",
              "      <td>yes</td>\n",
              "      <td>no</td>\n",
              "      <td>one year</td>\n",
              "      <td>yes</td>\n",
              "      <td>mailed check</td>\n",
              "      <td>65.6</td>\n",
              "      <td>593.30</td>\n",
              "    </tr>\n",
              "    <tr>\n",
              "      <th>1</th>\n",
              "      <td>0003-mknfe</td>\n",
              "      <td>No</td>\n",
              "      <td>male</td>\n",
              "      <td>0</td>\n",
              "      <td>No</td>\n",
              "      <td>No</td>\n",
              "      <td>9</td>\n",
              "      <td>Yes</td>\n",
              "      <td>yes</td>\n",
              "      <td>Dsl</td>\n",
              "      <td>...</td>\n",
              "      <td>no</td>\n",
              "      <td>no</td>\n",
              "      <td>No</td>\n",
              "      <td>no</td>\n",
              "      <td>yes</td>\n",
              "      <td>month-to-month</td>\n",
              "      <td>no</td>\n",
              "      <td>mailed check</td>\n",
              "      <td>59.9</td>\n",
              "      <td>542.40</td>\n",
              "    </tr>\n",
              "    <tr>\n",
              "      <th>2</th>\n",
              "      <td>0004-tlhlj</td>\n",
              "      <td>Yes</td>\n",
              "      <td>male</td>\n",
              "      <td>0</td>\n",
              "      <td>No</td>\n",
              "      <td>No</td>\n",
              "      <td>4</td>\n",
              "      <td>Yes</td>\n",
              "      <td>no</td>\n",
              "      <td>Fiber_optic</td>\n",
              "      <td>...</td>\n",
              "      <td>no</td>\n",
              "      <td>yes</td>\n",
              "      <td>No</td>\n",
              "      <td>no</td>\n",
              "      <td>no</td>\n",
              "      <td>month-to-month</td>\n",
              "      <td>yes</td>\n",
              "      <td>electronic check</td>\n",
              "      <td>73.9</td>\n",
              "      <td>280.85</td>\n",
              "    </tr>\n",
              "    <tr>\n",
              "      <th>3</th>\n",
              "      <td>0011-igkff</td>\n",
              "      <td>Yes</td>\n",
              "      <td>male</td>\n",
              "      <td>1</td>\n",
              "      <td>Yes</td>\n",
              "      <td>No</td>\n",
              "      <td>13</td>\n",
              "      <td>Yes</td>\n",
              "      <td>no</td>\n",
              "      <td>Fiber_optic</td>\n",
              "      <td>...</td>\n",
              "      <td>yes</td>\n",
              "      <td>yes</td>\n",
              "      <td>No</td>\n",
              "      <td>yes</td>\n",
              "      <td>yes</td>\n",
              "      <td>month-to-month</td>\n",
              "      <td>yes</td>\n",
              "      <td>electronic check</td>\n",
              "      <td>98.0</td>\n",
              "      <td>1237.85</td>\n",
              "    </tr>\n",
              "    <tr>\n",
              "      <th>4</th>\n",
              "      <td>0013-exchz</td>\n",
              "      <td>Yes</td>\n",
              "      <td>female</td>\n",
              "      <td>1</td>\n",
              "      <td>Yes</td>\n",
              "      <td>No</td>\n",
              "      <td>3</td>\n",
              "      <td>Yes</td>\n",
              "      <td>no</td>\n",
              "      <td>Fiber_optic</td>\n",
              "      <td>...</td>\n",
              "      <td>no</td>\n",
              "      <td>no</td>\n",
              "      <td>Yes</td>\n",
              "      <td>yes</td>\n",
              "      <td>no</td>\n",
              "      <td>month-to-month</td>\n",
              "      <td>yes</td>\n",
              "      <td>mailed check</td>\n",
              "      <td>83.9</td>\n",
              "      <td>267.40</td>\n",
              "    </tr>\n",
              "  </tbody>\n",
              "</table>\n",
              "<p>5 rows × 21 columns</p>\n",
              "</div>\n",
              "    <div class=\"colab-df-buttons\">\n",
              "\n",
              "  <div class=\"colab-df-container\">\n",
              "    <button class=\"colab-df-convert\" onclick=\"convertToInteractive('df-bb5a2132-55b4-4382-9b3b-f488d9005025')\"\n",
              "            title=\"Convert this dataframe to an interactive table.\"\n",
              "            style=\"display:none;\">\n",
              "\n",
              "  <svg xmlns=\"http://www.w3.org/2000/svg\" height=\"24px\" viewBox=\"0 -960 960 960\">\n",
              "    <path d=\"M120-120v-720h720v720H120Zm60-500h600v-160H180v160Zm220 220h160v-160H400v160Zm0 220h160v-160H400v160ZM180-400h160v-160H180v160Zm440 0h160v-160H620v160ZM180-180h160v-160H180v160Zm440 0h160v-160H620v160Z\"/>\n",
              "  </svg>\n",
              "    </button>\n",
              "\n",
              "  <style>\n",
              "    .colab-df-container {\n",
              "      display:flex;\n",
              "      gap: 12px;\n",
              "    }\n",
              "\n",
              "    .colab-df-convert {\n",
              "      background-color: #E8F0FE;\n",
              "      border: none;\n",
              "      border-radius: 50%;\n",
              "      cursor: pointer;\n",
              "      display: none;\n",
              "      fill: #1967D2;\n",
              "      height: 32px;\n",
              "      padding: 0 0 0 0;\n",
              "      width: 32px;\n",
              "    }\n",
              "\n",
              "    .colab-df-convert:hover {\n",
              "      background-color: #E2EBFA;\n",
              "      box-shadow: 0px 1px 2px rgba(60, 64, 67, 0.3), 0px 1px 3px 1px rgba(60, 64, 67, 0.15);\n",
              "      fill: #174EA6;\n",
              "    }\n",
              "\n",
              "    .colab-df-buttons div {\n",
              "      margin-bottom: 4px;\n",
              "    }\n",
              "\n",
              "    [theme=dark] .colab-df-convert {\n",
              "      background-color: #3B4455;\n",
              "      fill: #D2E3FC;\n",
              "    }\n",
              "\n",
              "    [theme=dark] .colab-df-convert:hover {\n",
              "      background-color: #434B5C;\n",
              "      box-shadow: 0px 1px 3px 1px rgba(0, 0, 0, 0.15);\n",
              "      filter: drop-shadow(0px 1px 2px rgba(0, 0, 0, 0.3));\n",
              "      fill: #FFFFFF;\n",
              "    }\n",
              "  </style>\n",
              "\n",
              "    <script>\n",
              "      const buttonEl =\n",
              "        document.querySelector('#df-bb5a2132-55b4-4382-9b3b-f488d9005025 button.colab-df-convert');\n",
              "      buttonEl.style.display =\n",
              "        google.colab.kernel.accessAllowed ? 'block' : 'none';\n",
              "\n",
              "      async function convertToInteractive(key) {\n",
              "        const element = document.querySelector('#df-bb5a2132-55b4-4382-9b3b-f488d9005025');\n",
              "        const dataTable =\n",
              "          await google.colab.kernel.invokeFunction('convertToInteractive',\n",
              "                                                    [key], {});\n",
              "        if (!dataTable) return;\n",
              "\n",
              "        const docLinkHtml = 'Like what you see? Visit the ' +\n",
              "          '<a target=\"_blank\" href=https://colab.research.google.com/notebooks/data_table.ipynb>data table notebook</a>'\n",
              "          + ' to learn more about interactive tables.';\n",
              "        element.innerHTML = '';\n",
              "        dataTable['output_type'] = 'display_data';\n",
              "        await google.colab.output.renderOutput(dataTable, element);\n",
              "        const docLink = document.createElement('div');\n",
              "        docLink.innerHTML = docLinkHtml;\n",
              "        element.appendChild(docLink);\n",
              "      }\n",
              "    </script>\n",
              "  </div>\n",
              "\n",
              "\n",
              "    <div id=\"df-f8b4eff8-c39d-4bd4-b5d6-734202a13e66\">\n",
              "      <button class=\"colab-df-quickchart\" onclick=\"quickchart('df-f8b4eff8-c39d-4bd4-b5d6-734202a13e66')\"\n",
              "                title=\"Suggest charts\"\n",
              "                style=\"display:none;\">\n",
              "\n",
              "<svg xmlns=\"http://www.w3.org/2000/svg\" height=\"24px\"viewBox=\"0 0 24 24\"\n",
              "     width=\"24px\">\n",
              "    <g>\n",
              "        <path d=\"M19 3H5c-1.1 0-2 .9-2 2v14c0 1.1.9 2 2 2h14c1.1 0 2-.9 2-2V5c0-1.1-.9-2-2-2zM9 17H7v-7h2v7zm4 0h-2V7h2v10zm4 0h-2v-4h2v4z\"/>\n",
              "    </g>\n",
              "</svg>\n",
              "      </button>\n",
              "\n",
              "<style>\n",
              "  .colab-df-quickchart {\n",
              "      --bg-color: #E8F0FE;\n",
              "      --fill-color: #1967D2;\n",
              "      --hover-bg-color: #E2EBFA;\n",
              "      --hover-fill-color: #174EA6;\n",
              "      --disabled-fill-color: #AAA;\n",
              "      --disabled-bg-color: #DDD;\n",
              "  }\n",
              "\n",
              "  [theme=dark] .colab-df-quickchart {\n",
              "      --bg-color: #3B4455;\n",
              "      --fill-color: #D2E3FC;\n",
              "      --hover-bg-color: #434B5C;\n",
              "      --hover-fill-color: #FFFFFF;\n",
              "      --disabled-bg-color: #3B4455;\n",
              "      --disabled-fill-color: #666;\n",
              "  }\n",
              "\n",
              "  .colab-df-quickchart {\n",
              "    background-color: var(--bg-color);\n",
              "    border: none;\n",
              "    border-radius: 50%;\n",
              "    cursor: pointer;\n",
              "    display: none;\n",
              "    fill: var(--fill-color);\n",
              "    height: 32px;\n",
              "    padding: 0;\n",
              "    width: 32px;\n",
              "  }\n",
              "\n",
              "  .colab-df-quickchart:hover {\n",
              "    background-color: var(--hover-bg-color);\n",
              "    box-shadow: 0 1px 2px rgba(60, 64, 67, 0.3), 0 1px 3px 1px rgba(60, 64, 67, 0.15);\n",
              "    fill: var(--button-hover-fill-color);\n",
              "  }\n",
              "\n",
              "  .colab-df-quickchart-complete:disabled,\n",
              "  .colab-df-quickchart-complete:disabled:hover {\n",
              "    background-color: var(--disabled-bg-color);\n",
              "    fill: var(--disabled-fill-color);\n",
              "    box-shadow: none;\n",
              "  }\n",
              "\n",
              "  .colab-df-spinner {\n",
              "    border: 2px solid var(--fill-color);\n",
              "    border-color: transparent;\n",
              "    border-bottom-color: var(--fill-color);\n",
              "    animation:\n",
              "      spin 1s steps(1) infinite;\n",
              "  }\n",
              "\n",
              "  @keyframes spin {\n",
              "    0% {\n",
              "      border-color: transparent;\n",
              "      border-bottom-color: var(--fill-color);\n",
              "      border-left-color: var(--fill-color);\n",
              "    }\n",
              "    20% {\n",
              "      border-color: transparent;\n",
              "      border-left-color: var(--fill-color);\n",
              "      border-top-color: var(--fill-color);\n",
              "    }\n",
              "    30% {\n",
              "      border-color: transparent;\n",
              "      border-left-color: var(--fill-color);\n",
              "      border-top-color: var(--fill-color);\n",
              "      border-right-color: var(--fill-color);\n",
              "    }\n",
              "    40% {\n",
              "      border-color: transparent;\n",
              "      border-right-color: var(--fill-color);\n",
              "      border-top-color: var(--fill-color);\n",
              "    }\n",
              "    60% {\n",
              "      border-color: transparent;\n",
              "      border-right-color: var(--fill-color);\n",
              "    }\n",
              "    80% {\n",
              "      border-color: transparent;\n",
              "      border-right-color: var(--fill-color);\n",
              "      border-bottom-color: var(--fill-color);\n",
              "    }\n",
              "    90% {\n",
              "      border-color: transparent;\n",
              "      border-bottom-color: var(--fill-color);\n",
              "    }\n",
              "  }\n",
              "</style>\n",
              "\n",
              "      <script>\n",
              "        async function quickchart(key) {\n",
              "          const quickchartButtonEl =\n",
              "            document.querySelector('#' + key + ' button');\n",
              "          quickchartButtonEl.disabled = true;  // To prevent multiple clicks.\n",
              "          quickchartButtonEl.classList.add('colab-df-spinner');\n",
              "          try {\n",
              "            const charts = await google.colab.kernel.invokeFunction(\n",
              "                'suggestCharts', [key], {});\n",
              "          } catch (error) {\n",
              "            console.error('Error during call to suggestCharts:', error);\n",
              "          }\n",
              "          quickchartButtonEl.classList.remove('colab-df-spinner');\n",
              "          quickchartButtonEl.classList.add('colab-df-quickchart-complete');\n",
              "        }\n",
              "        (() => {\n",
              "          let quickchartButtonEl =\n",
              "            document.querySelector('#df-f8b4eff8-c39d-4bd4-b5d6-734202a13e66 button');\n",
              "          quickchartButtonEl.style.display =\n",
              "            google.colab.kernel.accessAllowed ? 'block' : 'none';\n",
              "        })();\n",
              "      </script>\n",
              "    </div>\n",
              "\n",
              "    </div>\n",
              "  </div>\n"
            ],
            "application/vnd.google.colaboratory.intrinsic+json": {
              "type": "dataframe",
              "variable_name": "df"
            }
          },
          "metadata": {},
          "execution_count": 20
        }
      ]
    },
    {
      "cell_type": "markdown",
      "source": [
        "## 2. Análisis Exploratorio de Datos\n",
        "\n",
        "### 2.1 Distribución de Churn\n",
        "- Se observa que aproximadamente el 71% de los clientes permanece y el 26% cancela.\n"
      ],
      "metadata": {
        "id": "mJM7PgIHIb65"
      }
    },
    {
      "cell_type": "code",
      "source": [
        "import matplotlib.pyplot as plt\n",
        "\n",
        "counts = df['Churn'].value_counts()\n",
        "plt.figure()\n",
        "counts.plot(kind='bar', color='orange')\n",
        "plt.title('Distribución de Churn')\n",
        "plt.xlabel('Churn')\n",
        "plt.ylabel('Número de Clientes')\n",
        "plt.xticks(rotation=0)\n",
        "plt.show()\n"
      ],
      "metadata": {
        "colab": {
          "base_uri": "https://localhost:8080/",
          "height": 472
        },
        "id": "tj4hHtnuIgBn",
        "outputId": "bfbfc8b6-65b6-4f56-fa11-89e4bf413c66"
      },
      "execution_count": null,
      "outputs": [
        {
          "output_type": "display_data",
          "data": {
            "text/plain": [
              "<Figure size 640x480 with 1 Axes>"
            ],
            "image/png": "[encoded data removed]"
          },
          "metadata": {}
        }
      ]
    },
    {
      "cell_type": "code",
      "source": [
        "# Tasa de churn por tipo de contrato\n",
        "churn_rate_contract = df.groupby('account.Contract')['Churn'] \\\n",
        "    .apply(lambda x: (x == 'Yes').mean() * 100)\n",
        "plt.figure()\n",
        "churn_rate_contract.plot(kind='bar', color='orange')\n",
        "plt.title('Tasa de Churn por Contract')\n",
        "plt.xlabel('Contract')\n",
        "plt.ylabel('Churn Rate (%)')\n",
        "plt.xticks(rotation=0)\n",
        "plt.show()\n"
      ],
      "metadata": {
        "colab": {
          "base_uri": "https://localhost:8080/",
          "height": 472
        },
        "id": "KlmFriVbIscS",
        "outputId": "de23ea9a-abd4-4fe2-cab8-2f7609698594"
      },
      "execution_count": null,
      "outputs": [
        {
          "output_type": "display_data",
          "data": {
            "text/plain": [
              "<Figure size 640x480 with 1 Axes>"
            ],
            "image/png": "[encoded data removed]"
          },
          "metadata": {}
        }
      ]
    },
    {
      "cell_type": "markdown",
      "source": [],
      "metadata": {
        "id": "ZYr116aRI2ZX"
      }
    },
    {
      "cell_type": "markdown",
      "source": [
        "### 2.2 Distribución de Variables Numéricas vs Churn\n",
        "- **Tenure**: compara la distribución de meses de permanencia.\n",
        "- **Total Charges**: compara el gasto total acumulado.\n"
      ],
      "metadata": {
        "id": "pkwE25jBJAwn"
      }
    },
    {
      "cell_type": "code",
      "source": [
        "# Boxplot de Tenure vs Churn\n",
        "tenure_no  = df[df['Churn']=='No']['customer.tenure'].dropna()\n",
        "tenure_yes = df[df['Churn']=='Yes']['customer.tenure'].dropna()\n",
        "\n",
        "plt.figure()\n",
        "plt.boxplot([tenure_no, tenure_yes], labels=['No', 'Yes'])\n",
        "plt.title('Distribución de Tenure por Churn')\n",
        "plt.xlabel('Churn')\n",
        "plt.ylabel('Tenure (meses)')\n",
        "plt.show()\n"
      ],
      "metadata": {
        "colab": {
          "base_uri": "https://localhost:8080/",
          "height": 527
        },
        "id": "FdMJ4WLyJBq2",
        "outputId": "2713e14c-f6d9-4190-d858-d11f10c0a5b4"
      },
      "execution_count": null,
      "outputs": [
        {
          "output_type": "stream",
          "name": "stderr",
          "text": [
            "/tmp/ipython-input-23-2326907900.py:6: MatplotlibDeprecationWarning: The 'labels' parameter of boxplot() has been renamed 'tick_labels' since Matplotlib 3.9; support for the old name will be dropped in 3.11.\n",
            "  plt.boxplot([tenure_no, tenure_yes], labels=['No', 'Yes'])\n"
          ]
        },
        {
          "output_type": "display_data",
          "data": {
            "text/plain": [
              "<Figure size 640x480 with 1 Axes>"
            ],
            "image/png": "[encoded data removed]"
          },
          "metadata": {}
        }
      ]
    },
    {
      "cell_type": "code",
      "source": [
        "# Boxplot de Total Charges vs Churn\n",
        "total_no  = df[df['Churn']=='No']['account.Charges.Total'].dropna()\n",
        "total_yes = df[df['Churn']=='Yes']['account.Charges.Total'].dropna()\n",
        "\n",
        "plt.figure()\n",
        "plt.boxplot([total_no, total_yes], labels=['No', 'Yes'])\n",
        "plt.title('Distribución de Total Charges por Churn')\n",
        "plt.xlabel('Churn')\n",
        "plt.ylabel('Total Charges')\n",
        "plt.show()\n"
      ],
      "metadata": {
        "colab": {
          "base_uri": "https://localhost:8080/",
          "height": 527
        },
        "id": "uFyLzx5WJGri",
        "outputId": "5ec5967a-b533-41e5-b963-f2911b6b9cca"
      },
      "execution_count": null,
      "outputs": [
        {
          "output_type": "stream",
          "name": "stderr",
          "text": [
            "/tmp/ipython-input-24-1260196611.py:6: MatplotlibDeprecationWarning: The 'labels' parameter of boxplot() has been renamed 'tick_labels' since Matplotlib 3.9; support for the old name will be dropped in 3.11.\n",
            "  plt.boxplot([total_no, total_yes], labels=['No', 'Yes'])\n"
          ]
        },
        {
          "output_type": "display_data",
          "data": {
            "text/plain": [
              "<Figure size 640x480 with 1 Axes>"
            ],
            "image/png": "[encoded data removed]"
          },
          "metadata": {}
        }
      ]
    },
    {
      "cell_type": "code",
      "source": [],
      "metadata": {
        "id": "PuIn05IhJbAs"
      },
      "execution_count": null,
      "outputs": []
    },
    {
      "cell_type": "markdown",
      "source": [
        "## 3. Conclusiones e Insights\n",
        "- **Antigüedad**: la mediana de tenure es ~38 meses en “No” vs ~10 meses en “Yes”.  \n",
        "- **Contrato**: clientes mes a mes presentan ~41% de churn, muy superior a contratos anuales o bienales.  \n",
        "- **Método de pago**: cheque electrónico (~44%) es el que más churn muestra.  \n",
        "- **Gasto Total**: menores cargos acumulados se asocian a churn.\n"
      ],
      "metadata": {
        "id": "lSvNxtbNJeSP"
      }
    },
    {
      "cell_type": "code",
      "source": [],
      "metadata": {
        "id": "qwBGFNcdJfGj"
      },
      "execution_count": null,
      "outputs": []
    },
    {
      "cell_type": "markdown",
      "source": [
        "## 4. Recomendaciones Estratégicas\n",
        "1. **Incentivar renovaciones**: ofertas especiales y descuentos para contratos mes a mes.  \n",
        "2. **Promover pagos automáticos**: transferencias bancarias o tarjetas de crédito para reducir churn.  \n",
        "3. **Onboarding reforzado**: acompañamiento y soporte extra durante los primeros 3 meses.  \n",
        "4. **Programas de fidelización**: descuentos escalonados según antigüedad del cliente.\n"
      ],
      "metadata": {
        "id": "chLnKXxtJjcF"
      }
    },
    {
      "cell_type": "code",
      "source": [],
      "metadata": {
        "id": "gdeW_NaqJkj6"
      },
      "execution_count": null,
      "outputs": []
    }
  ]
}